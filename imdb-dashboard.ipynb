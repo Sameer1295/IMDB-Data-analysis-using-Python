{
 "cells": [
  {
   "cell_type": "code",
   "execution_count": 1,
   "id": "cd6f21e8-e6d4-4508-9a5d-394029e63e66",
   "metadata": {},
   "outputs": [],
   "source": [
    "import pandas as pd\n",
    "import seaborn as sns\n",
    "import matplotlib.pyplot as plt"
   ]
  },
  {
   "cell_type": "code",
   "execution_count": 2,
   "id": "d20e6874-2dbd-4bfe-9d75-a20eaa3ecea3",
   "metadata": {},
   "outputs": [],
   "source": [
    "data = pd.read_csv('IMDB-Movie-Data.csv')"
   ]
  },
  {
   "cell_type": "markdown",
   "id": "2586e12c-159d-462e-b4d8-c60cf62c1ce4",
   "metadata": {},
   "source": [
    "Display top 10 rows"
   ]
  },
  {
   "cell_type": "code",
   "execution_count": 3,
   "id": "56daeb12-f52a-44de-b52a-2f8840ab7f3c",
   "metadata": {},
   "outputs": [
    {
     "data": {
      "text/html": [
       "<div>\n",
       "<style scoped>\n",
       "    .dataframe tbody tr th:only-of-type {\n",
       "        vertical-align: middle;\n",
       "    }\n",
       "\n",
       "    .dataframe tbody tr th {\n",
       "        vertical-align: top;\n",
       "    }\n",
       "\n",
       "    .dataframe thead th {\n",
       "        text-align: right;\n",
       "    }\n",
       "</style>\n",
       "<table border=\"1\" class=\"dataframe\">\n",
       "  <thead>\n",
       "    <tr style=\"text-align: right;\">\n",
       "      <th></th>\n",
       "      <th>Rank</th>\n",
       "      <th>Title</th>\n",
       "      <th>Genre</th>\n",
       "      <th>Description</th>\n",
       "      <th>Director</th>\n",
       "      <th>Actors</th>\n",
       "      <th>Year</th>\n",
       "      <th>Runtime (Minutes)</th>\n",
       "      <th>Rating</th>\n",
       "      <th>Votes</th>\n",
       "      <th>Revenue (Millions)</th>\n",
       "      <th>Metascore</th>\n",
       "    </tr>\n",
       "  </thead>\n",
       "  <tbody>\n",
       "    <tr>\n",
       "      <th>0</th>\n",
       "      <td>1</td>\n",
       "      <td>Guardians of the Galaxy</td>\n",
       "      <td>Action,Adventure,Sci-Fi</td>\n",
       "      <td>A group of intergalactic criminals are forced ...</td>\n",
       "      <td>James Gunn</td>\n",
       "      <td>Chris Pratt, Vin Diesel, Bradley Cooper, Zoe S...</td>\n",
       "      <td>2014</td>\n",
       "      <td>121</td>\n",
       "      <td>8.1</td>\n",
       "      <td>757074</td>\n",
       "      <td>333.13</td>\n",
       "      <td>76.0</td>\n",
       "    </tr>\n",
       "    <tr>\n",
       "      <th>1</th>\n",
       "      <td>2</td>\n",
       "      <td>Prometheus</td>\n",
       "      <td>Adventure,Mystery,Sci-Fi</td>\n",
       "      <td>Following clues to the origin of mankind, a te...</td>\n",
       "      <td>Ridley Scott</td>\n",
       "      <td>Noomi Rapace, Logan Marshall-Green, Michael Fa...</td>\n",
       "      <td>2012</td>\n",
       "      <td>124</td>\n",
       "      <td>7.0</td>\n",
       "      <td>485820</td>\n",
       "      <td>126.46</td>\n",
       "      <td>65.0</td>\n",
       "    </tr>\n",
       "    <tr>\n",
       "      <th>2</th>\n",
       "      <td>3</td>\n",
       "      <td>Split</td>\n",
       "      <td>Horror,Thriller</td>\n",
       "      <td>Three girls are kidnapped by a man with a diag...</td>\n",
       "      <td>M. Night Shyamalan</td>\n",
       "      <td>James McAvoy, Anya Taylor-Joy, Haley Lu Richar...</td>\n",
       "      <td>2016</td>\n",
       "      <td>117</td>\n",
       "      <td>7.3</td>\n",
       "      <td>157606</td>\n",
       "      <td>138.12</td>\n",
       "      <td>62.0</td>\n",
       "    </tr>\n",
       "    <tr>\n",
       "      <th>3</th>\n",
       "      <td>4</td>\n",
       "      <td>Sing</td>\n",
       "      <td>Animation,Comedy,Family</td>\n",
       "      <td>In a city of humanoid animals, a hustling thea...</td>\n",
       "      <td>Christophe Lourdelet</td>\n",
       "      <td>Matthew McConaughey,Reese Witherspoon, Seth Ma...</td>\n",
       "      <td>2016</td>\n",
       "      <td>108</td>\n",
       "      <td>7.2</td>\n",
       "      <td>60545</td>\n",
       "      <td>270.32</td>\n",
       "      <td>59.0</td>\n",
       "    </tr>\n",
       "    <tr>\n",
       "      <th>4</th>\n",
       "      <td>5</td>\n",
       "      <td>Suicide Squad</td>\n",
       "      <td>Action,Adventure,Fantasy</td>\n",
       "      <td>A secret government agency recruits some of th...</td>\n",
       "      <td>David Ayer</td>\n",
       "      <td>Will Smith, Jared Leto, Margot Robbie, Viola D...</td>\n",
       "      <td>2016</td>\n",
       "      <td>123</td>\n",
       "      <td>6.2</td>\n",
       "      <td>393727</td>\n",
       "      <td>325.02</td>\n",
       "      <td>40.0</td>\n",
       "    </tr>\n",
       "    <tr>\n",
       "      <th>5</th>\n",
       "      <td>6</td>\n",
       "      <td>The Great Wall</td>\n",
       "      <td>Action,Adventure,Fantasy</td>\n",
       "      <td>European mercenaries searching for black powde...</td>\n",
       "      <td>Yimou Zhang</td>\n",
       "      <td>Matt Damon, Tian Jing, Willem Dafoe, Andy Lau</td>\n",
       "      <td>2016</td>\n",
       "      <td>103</td>\n",
       "      <td>6.1</td>\n",
       "      <td>56036</td>\n",
       "      <td>45.13</td>\n",
       "      <td>42.0</td>\n",
       "    </tr>\n",
       "    <tr>\n",
       "      <th>6</th>\n",
       "      <td>7</td>\n",
       "      <td>La La Land</td>\n",
       "      <td>Comedy,Drama,Music</td>\n",
       "      <td>A jazz pianist falls for an aspiring actress i...</td>\n",
       "      <td>Damien Chazelle</td>\n",
       "      <td>Ryan Gosling, Emma Stone, Rosemarie DeWitt, J....</td>\n",
       "      <td>2016</td>\n",
       "      <td>128</td>\n",
       "      <td>8.3</td>\n",
       "      <td>258682</td>\n",
       "      <td>151.06</td>\n",
       "      <td>93.0</td>\n",
       "    </tr>\n",
       "    <tr>\n",
       "      <th>7</th>\n",
       "      <td>8</td>\n",
       "      <td>Mindhorn</td>\n",
       "      <td>Comedy</td>\n",
       "      <td>A has-been actor best known for playing the ti...</td>\n",
       "      <td>Sean Foley</td>\n",
       "      <td>Essie Davis, Andrea Riseborough, Julian Barrat...</td>\n",
       "      <td>2016</td>\n",
       "      <td>89</td>\n",
       "      <td>6.4</td>\n",
       "      <td>2490</td>\n",
       "      <td>NaN</td>\n",
       "      <td>71.0</td>\n",
       "    </tr>\n",
       "    <tr>\n",
       "      <th>8</th>\n",
       "      <td>9</td>\n",
       "      <td>The Lost City of Z</td>\n",
       "      <td>Action,Adventure,Biography</td>\n",
       "      <td>A true-life drama, centering on British explor...</td>\n",
       "      <td>James Gray</td>\n",
       "      <td>Charlie Hunnam, Robert Pattinson, Sienna Mille...</td>\n",
       "      <td>2016</td>\n",
       "      <td>141</td>\n",
       "      <td>7.1</td>\n",
       "      <td>7188</td>\n",
       "      <td>8.01</td>\n",
       "      <td>78.0</td>\n",
       "    </tr>\n",
       "    <tr>\n",
       "      <th>9</th>\n",
       "      <td>10</td>\n",
       "      <td>Passengers</td>\n",
       "      <td>Adventure,Drama,Romance</td>\n",
       "      <td>A spacecraft traveling to a distant colony pla...</td>\n",
       "      <td>Morten Tyldum</td>\n",
       "      <td>Jennifer Lawrence, Chris Pratt, Michael Sheen,...</td>\n",
       "      <td>2016</td>\n",
       "      <td>116</td>\n",
       "      <td>7.0</td>\n",
       "      <td>192177</td>\n",
       "      <td>100.01</td>\n",
       "      <td>41.0</td>\n",
       "    </tr>\n",
       "  </tbody>\n",
       "</table>\n",
       "</div>"
      ],
      "text/plain": [
       "   Rank                    Title                       Genre  \\\n",
       "0     1  Guardians of the Galaxy     Action,Adventure,Sci-Fi   \n",
       "1     2               Prometheus    Adventure,Mystery,Sci-Fi   \n",
       "2     3                    Split             Horror,Thriller   \n",
       "3     4                     Sing     Animation,Comedy,Family   \n",
       "4     5            Suicide Squad    Action,Adventure,Fantasy   \n",
       "5     6           The Great Wall    Action,Adventure,Fantasy   \n",
       "6     7               La La Land          Comedy,Drama,Music   \n",
       "7     8                 Mindhorn                      Comedy   \n",
       "8     9       The Lost City of Z  Action,Adventure,Biography   \n",
       "9    10               Passengers     Adventure,Drama,Romance   \n",
       "\n",
       "                                         Description              Director  \\\n",
       "0  A group of intergalactic criminals are forced ...            James Gunn   \n",
       "1  Following clues to the origin of mankind, a te...          Ridley Scott   \n",
       "2  Three girls are kidnapped by a man with a diag...    M. Night Shyamalan   \n",
       "3  In a city of humanoid animals, a hustling thea...  Christophe Lourdelet   \n",
       "4  A secret government agency recruits some of th...            David Ayer   \n",
       "5  European mercenaries searching for black powde...           Yimou Zhang   \n",
       "6  A jazz pianist falls for an aspiring actress i...       Damien Chazelle   \n",
       "7  A has-been actor best known for playing the ti...            Sean Foley   \n",
       "8  A true-life drama, centering on British explor...            James Gray   \n",
       "9  A spacecraft traveling to a distant colony pla...         Morten Tyldum   \n",
       "\n",
       "                                              Actors  Year  Runtime (Minutes)  \\\n",
       "0  Chris Pratt, Vin Diesel, Bradley Cooper, Zoe S...  2014                121   \n",
       "1  Noomi Rapace, Logan Marshall-Green, Michael Fa...  2012                124   \n",
       "2  James McAvoy, Anya Taylor-Joy, Haley Lu Richar...  2016                117   \n",
       "3  Matthew McConaughey,Reese Witherspoon, Seth Ma...  2016                108   \n",
       "4  Will Smith, Jared Leto, Margot Robbie, Viola D...  2016                123   \n",
       "5      Matt Damon, Tian Jing, Willem Dafoe, Andy Lau  2016                103   \n",
       "6  Ryan Gosling, Emma Stone, Rosemarie DeWitt, J....  2016                128   \n",
       "7  Essie Davis, Andrea Riseborough, Julian Barrat...  2016                 89   \n",
       "8  Charlie Hunnam, Robert Pattinson, Sienna Mille...  2016                141   \n",
       "9  Jennifer Lawrence, Chris Pratt, Michael Sheen,...  2016                116   \n",
       "\n",
       "   Rating   Votes  Revenue (Millions)  Metascore  \n",
       "0     8.1  757074              333.13       76.0  \n",
       "1     7.0  485820              126.46       65.0  \n",
       "2     7.3  157606              138.12       62.0  \n",
       "3     7.2   60545              270.32       59.0  \n",
       "4     6.2  393727              325.02       40.0  \n",
       "5     6.1   56036               45.13       42.0  \n",
       "6     8.3  258682              151.06       93.0  \n",
       "7     6.4    2490                 NaN       71.0  \n",
       "8     7.1    7188                8.01       78.0  \n",
       "9     7.0  192177              100.01       41.0  "
      ]
     },
     "execution_count": 3,
     "metadata": {},
     "output_type": "execute_result"
    }
   ],
   "source": [
    "data.head(10)"
   ]
  },
  {
   "cell_type": "markdown",
   "id": "39f6e8fa-6a78-4194-a831-be5eeb883982",
   "metadata": {},
   "source": [
    "Display last 10 rows"
   ]
  },
  {
   "cell_type": "code",
   "execution_count": 4,
   "id": "b309d037-bffa-44e6-9d00-4dd0dbf5b4d2",
   "metadata": {},
   "outputs": [
    {
     "data": {
      "text/html": [
       "<div>\n",
       "<style scoped>\n",
       "    .dataframe tbody tr th:only-of-type {\n",
       "        vertical-align: middle;\n",
       "    }\n",
       "\n",
       "    .dataframe tbody tr th {\n",
       "        vertical-align: top;\n",
       "    }\n",
       "\n",
       "    .dataframe thead th {\n",
       "        text-align: right;\n",
       "    }\n",
       "</style>\n",
       "<table border=\"1\" class=\"dataframe\">\n",
       "  <thead>\n",
       "    <tr style=\"text-align: right;\">\n",
       "      <th></th>\n",
       "      <th>Rank</th>\n",
       "      <th>Title</th>\n",
       "      <th>Genre</th>\n",
       "      <th>Description</th>\n",
       "      <th>Director</th>\n",
       "      <th>Actors</th>\n",
       "      <th>Year</th>\n",
       "      <th>Runtime (Minutes)</th>\n",
       "      <th>Rating</th>\n",
       "      <th>Votes</th>\n",
       "      <th>Revenue (Millions)</th>\n",
       "      <th>Metascore</th>\n",
       "    </tr>\n",
       "  </thead>\n",
       "  <tbody>\n",
       "    <tr>\n",
       "      <th>990</th>\n",
       "      <td>991</td>\n",
       "      <td>Underworld: Rise of the Lycans</td>\n",
       "      <td>Action,Adventure,Fantasy</td>\n",
       "      <td>An origins story centered on the centuries-old...</td>\n",
       "      <td>Patrick Tatopoulos</td>\n",
       "      <td>Rhona Mitra, Michael Sheen, Bill Nighy, Steven...</td>\n",
       "      <td>2009</td>\n",
       "      <td>92</td>\n",
       "      <td>6.6</td>\n",
       "      <td>129708</td>\n",
       "      <td>45.80</td>\n",
       "      <td>44.0</td>\n",
       "    </tr>\n",
       "    <tr>\n",
       "      <th>991</th>\n",
       "      <td>992</td>\n",
       "      <td>Taare Zameen Par</td>\n",
       "      <td>Drama,Family,Music</td>\n",
       "      <td>An eight-year-old boy is thought to be a lazy ...</td>\n",
       "      <td>Aamir Khan</td>\n",
       "      <td>Darsheel Safary, Aamir Khan, Tanay Chheda, Sac...</td>\n",
       "      <td>2007</td>\n",
       "      <td>165</td>\n",
       "      <td>8.5</td>\n",
       "      <td>102697</td>\n",
       "      <td>1.20</td>\n",
       "      <td>42.0</td>\n",
       "    </tr>\n",
       "    <tr>\n",
       "      <th>992</th>\n",
       "      <td>993</td>\n",
       "      <td>Take Me Home Tonight</td>\n",
       "      <td>Comedy,Drama,Romance</td>\n",
       "      <td>Four years after graduation, an awkward high s...</td>\n",
       "      <td>Michael Dowse</td>\n",
       "      <td>Topher Grace, Anna Faris, Dan Fogler, Teresa P...</td>\n",
       "      <td>2011</td>\n",
       "      <td>97</td>\n",
       "      <td>6.3</td>\n",
       "      <td>45419</td>\n",
       "      <td>6.92</td>\n",
       "      <td>NaN</td>\n",
       "    </tr>\n",
       "    <tr>\n",
       "      <th>993</th>\n",
       "      <td>994</td>\n",
       "      <td>Resident Evil: Afterlife</td>\n",
       "      <td>Action,Adventure,Horror</td>\n",
       "      <td>While still out to destroy the evil Umbrella C...</td>\n",
       "      <td>Paul W.S. Anderson</td>\n",
       "      <td>Milla Jovovich, Ali Larter, Wentworth Miller,K...</td>\n",
       "      <td>2010</td>\n",
       "      <td>97</td>\n",
       "      <td>5.9</td>\n",
       "      <td>140900</td>\n",
       "      <td>60.13</td>\n",
       "      <td>37.0</td>\n",
       "    </tr>\n",
       "    <tr>\n",
       "      <th>994</th>\n",
       "      <td>995</td>\n",
       "      <td>Project X</td>\n",
       "      <td>Comedy</td>\n",
       "      <td>3 high school seniors throw a birthday party t...</td>\n",
       "      <td>Nima Nourizadeh</td>\n",
       "      <td>Thomas Mann, Oliver Cooper, Jonathan Daniel Br...</td>\n",
       "      <td>2012</td>\n",
       "      <td>88</td>\n",
       "      <td>6.7</td>\n",
       "      <td>164088</td>\n",
       "      <td>54.72</td>\n",
       "      <td>48.0</td>\n",
       "    </tr>\n",
       "    <tr>\n",
       "      <th>995</th>\n",
       "      <td>996</td>\n",
       "      <td>Secret in Their Eyes</td>\n",
       "      <td>Crime,Drama,Mystery</td>\n",
       "      <td>A tight-knit team of rising investigators, alo...</td>\n",
       "      <td>Billy Ray</td>\n",
       "      <td>Chiwetel Ejiofor, Nicole Kidman, Julia Roberts...</td>\n",
       "      <td>2015</td>\n",
       "      <td>111</td>\n",
       "      <td>6.2</td>\n",
       "      <td>27585</td>\n",
       "      <td>NaN</td>\n",
       "      <td>45.0</td>\n",
       "    </tr>\n",
       "    <tr>\n",
       "      <th>996</th>\n",
       "      <td>997</td>\n",
       "      <td>Hostel: Part II</td>\n",
       "      <td>Horror</td>\n",
       "      <td>Three American college students studying abroa...</td>\n",
       "      <td>Eli Roth</td>\n",
       "      <td>Lauren German, Heather Matarazzo, Bijou Philli...</td>\n",
       "      <td>2007</td>\n",
       "      <td>94</td>\n",
       "      <td>5.5</td>\n",
       "      <td>73152</td>\n",
       "      <td>17.54</td>\n",
       "      <td>46.0</td>\n",
       "    </tr>\n",
       "    <tr>\n",
       "      <th>997</th>\n",
       "      <td>998</td>\n",
       "      <td>Step Up 2: The Streets</td>\n",
       "      <td>Drama,Music,Romance</td>\n",
       "      <td>Romantic sparks occur between two dance studen...</td>\n",
       "      <td>Jon M. Chu</td>\n",
       "      <td>Robert Hoffman, Briana Evigan, Cassie Ventura,...</td>\n",
       "      <td>2008</td>\n",
       "      <td>98</td>\n",
       "      <td>6.2</td>\n",
       "      <td>70699</td>\n",
       "      <td>58.01</td>\n",
       "      <td>50.0</td>\n",
       "    </tr>\n",
       "    <tr>\n",
       "      <th>998</th>\n",
       "      <td>999</td>\n",
       "      <td>Search Party</td>\n",
       "      <td>Adventure,Comedy</td>\n",
       "      <td>A pair of friends embark on a mission to reuni...</td>\n",
       "      <td>Scot Armstrong</td>\n",
       "      <td>Adam Pally, T.J. Miller, Thomas Middleditch,Sh...</td>\n",
       "      <td>2014</td>\n",
       "      <td>93</td>\n",
       "      <td>5.6</td>\n",
       "      <td>4881</td>\n",
       "      <td>NaN</td>\n",
       "      <td>22.0</td>\n",
       "    </tr>\n",
       "    <tr>\n",
       "      <th>999</th>\n",
       "      <td>1000</td>\n",
       "      <td>Nine Lives</td>\n",
       "      <td>Comedy,Family,Fantasy</td>\n",
       "      <td>A stuffy businessman finds himself trapped ins...</td>\n",
       "      <td>Barry Sonnenfeld</td>\n",
       "      <td>Kevin Spacey, Jennifer Garner, Robbie Amell,Ch...</td>\n",
       "      <td>2016</td>\n",
       "      <td>87</td>\n",
       "      <td>5.3</td>\n",
       "      <td>12435</td>\n",
       "      <td>19.64</td>\n",
       "      <td>11.0</td>\n",
       "    </tr>\n",
       "  </tbody>\n",
       "</table>\n",
       "</div>"
      ],
      "text/plain": [
       "     Rank                           Title                     Genre  \\\n",
       "990   991  Underworld: Rise of the Lycans  Action,Adventure,Fantasy   \n",
       "991   992                Taare Zameen Par        Drama,Family,Music   \n",
       "992   993            Take Me Home Tonight      Comedy,Drama,Romance   \n",
       "993   994        Resident Evil: Afterlife   Action,Adventure,Horror   \n",
       "994   995                       Project X                    Comedy   \n",
       "995   996            Secret in Their Eyes       Crime,Drama,Mystery   \n",
       "996   997                 Hostel: Part II                    Horror   \n",
       "997   998          Step Up 2: The Streets       Drama,Music,Romance   \n",
       "998   999                    Search Party          Adventure,Comedy   \n",
       "999  1000                      Nine Lives     Comedy,Family,Fantasy   \n",
       "\n",
       "                                           Description            Director  \\\n",
       "990  An origins story centered on the centuries-old...  Patrick Tatopoulos   \n",
       "991  An eight-year-old boy is thought to be a lazy ...          Aamir Khan   \n",
       "992  Four years after graduation, an awkward high s...       Michael Dowse   \n",
       "993  While still out to destroy the evil Umbrella C...  Paul W.S. Anderson   \n",
       "994  3 high school seniors throw a birthday party t...     Nima Nourizadeh   \n",
       "995  A tight-knit team of rising investigators, alo...           Billy Ray   \n",
       "996  Three American college students studying abroa...            Eli Roth   \n",
       "997  Romantic sparks occur between two dance studen...          Jon M. Chu   \n",
       "998  A pair of friends embark on a mission to reuni...      Scot Armstrong   \n",
       "999  A stuffy businessman finds himself trapped ins...    Barry Sonnenfeld   \n",
       "\n",
       "                                                Actors  Year  \\\n",
       "990  Rhona Mitra, Michael Sheen, Bill Nighy, Steven...  2009   \n",
       "991  Darsheel Safary, Aamir Khan, Tanay Chheda, Sac...  2007   \n",
       "992  Topher Grace, Anna Faris, Dan Fogler, Teresa P...  2011   \n",
       "993  Milla Jovovich, Ali Larter, Wentworth Miller,K...  2010   \n",
       "994  Thomas Mann, Oliver Cooper, Jonathan Daniel Br...  2012   \n",
       "995  Chiwetel Ejiofor, Nicole Kidman, Julia Roberts...  2015   \n",
       "996  Lauren German, Heather Matarazzo, Bijou Philli...  2007   \n",
       "997  Robert Hoffman, Briana Evigan, Cassie Ventura,...  2008   \n",
       "998  Adam Pally, T.J. Miller, Thomas Middleditch,Sh...  2014   \n",
       "999  Kevin Spacey, Jennifer Garner, Robbie Amell,Ch...  2016   \n",
       "\n",
       "     Runtime (Minutes)  Rating   Votes  Revenue (Millions)  Metascore  \n",
       "990                 92     6.6  129708               45.80       44.0  \n",
       "991                165     8.5  102697                1.20       42.0  \n",
       "992                 97     6.3   45419                6.92        NaN  \n",
       "993                 97     5.9  140900               60.13       37.0  \n",
       "994                 88     6.7  164088               54.72       48.0  \n",
       "995                111     6.2   27585                 NaN       45.0  \n",
       "996                 94     5.5   73152               17.54       46.0  \n",
       "997                 98     6.2   70699               58.01       50.0  \n",
       "998                 93     5.6    4881                 NaN       22.0  \n",
       "999                 87     5.3   12435               19.64       11.0  "
      ]
     },
     "execution_count": 4,
     "metadata": {},
     "output_type": "execute_result"
    }
   ],
   "source": [
    "data.tail(10)"
   ]
  },
  {
   "cell_type": "code",
   "execution_count": 5,
   "id": "5cade0a8-d78b-4a59-be36-ef628cdcf828",
   "metadata": {},
   "outputs": [
    {
     "ename": "SyntaxError",
     "evalue": "invalid syntax (2571230629.py, line 1)",
     "output_type": "error",
     "traceback": [
      "\u001b[1;36m  Cell \u001b[1;32mIn[5], line 1\u001b[1;36m\u001b[0m\n\u001b[1;33m    find shape of our dataaset\u001b[0m\n\u001b[1;37m         ^\u001b[0m\n\u001b[1;31mSyntaxError\u001b[0m\u001b[1;31m:\u001b[0m invalid syntax\n"
     ]
    }
   ],
   "source": [
    "find shape of our dataaset"
   ]
  },
  {
   "cell_type": "code",
   "execution_count": null,
   "id": "60cd9222-ebde-4e05-935f-46f86eb6e1fd",
   "metadata": {},
   "outputs": [],
   "source": [
    "data.shape"
   ]
  },
  {
   "cell_type": "code",
   "execution_count": null,
   "id": "28ff2689-dad0-40b8-a7a0-c049d542c538",
   "metadata": {},
   "outputs": [],
   "source": [
    "print(\"Number of rows\",data.shape[0],\" Number of columns\",data.shape[1])"
   ]
  },
  {
   "cell_type": "markdown",
   "id": "51bb479c-958f-4362-9875-d27bf9c0eac5",
   "metadata": {},
   "source": [
    "4. Information about Dataset"
   ]
  },
  {
   "cell_type": "code",
   "execution_count": null,
   "id": "c02d6d8f-9522-4d52-941d-88124d04f29f",
   "metadata": {},
   "outputs": [],
   "source": [
    "data.info()"
   ]
  },
  {
   "cell_type": "markdown",
   "id": "7c62ff4d-9c4d-470b-a4ca-55297276ca2f",
   "metadata": {},
   "source": [
    "5. Check missing values "
   ]
  },
  {
   "cell_type": "code",
   "execution_count": null,
   "id": "d1349032-6e9d-4cfc-8257-b848325b05b4",
   "metadata": {},
   "outputs": [],
   "source": [
    "print(\"Any missing value?\",data.isnull().values.any())"
   ]
  },
  {
   "cell_type": "code",
   "execution_count": null,
   "id": "328ba6a8-7604-4712-afdf-9c22fe52dc50",
   "metadata": {},
   "outputs": [],
   "source": [
    "data.isnull().sum()"
   ]
  },
  {
   "cell_type": "code",
   "execution_count": null,
   "id": "19b05315-846b-49ef-9d61-7853d8972607",
   "metadata": {},
   "outputs": [],
   "source": [
    "sns.heatmap(data.isnull())"
   ]
  },
  {
   "cell_type": "code",
   "execution_count": null,
   "id": "26d81d73-44ea-455f-bcb2-ec7964a754d9",
   "metadata": {},
   "outputs": [],
   "source": [
    "percent_missing = data.isnull().sum() * 100/len(data)\n",
    "percent_missing"
   ]
  },
  {
   "cell_type": "markdown",
   "id": "ef03ddb4-fabd-47b5-85e0-8eec9a9cd47d",
   "metadata": {},
   "source": [
    "6. Drop All missing values"
   ]
  },
  {
   "cell_type": "code",
   "execution_count": null,
   "id": "04a95c3c-d0fc-4f18-8b3f-51f5901f5005",
   "metadata": {},
   "outputs": [],
   "source": [
    "data.dropna(axis=0) #0 means rows, 1 means drop columns"
   ]
  },
  {
   "cell_type": "markdown",
   "id": "5d9f4f7e-496f-4bc6-a388-e7fd8672048a",
   "metadata": {},
   "source": [
    "7. Check for duplicated data"
   ]
  },
  {
   "cell_type": "code",
   "execution_count": null,
   "id": "40ba9429-db96-465c-b09a-9f297a792ebb",
   "metadata": {},
   "outputs": [],
   "source": [
    "dup_data = data.duplicated().any()"
   ]
  },
  {
   "cell_type": "code",
   "execution_count": null,
   "id": "6f1039c9-3cbf-42f9-9ca9-afacd47c4a70",
   "metadata": {},
   "outputs": [],
   "source": [
    "print(\"Are there any duplicate values?\",dup_data)"
   ]
  },
  {
   "cell_type": "code",
   "execution_count": null,
   "id": "88669d85-2c04-4ff4-870a-7c277bb43fdd",
   "metadata": {},
   "outputs": [],
   "source": [
    "data = data.drop_duplicates()\n",
    "data"
   ]
  },
  {
   "cell_type": "markdown",
   "id": "d0b07b3f-4cb8-4288-af50-1d8f91fdb1e6",
   "metadata": {},
   "source": [
    "8. Get Statistics about dataframe"
   ]
  },
  {
   "cell_type": "code",
   "execution_count": null,
   "id": "096d308a-8865-4341-867f-ec39aed46e52",
   "metadata": {},
   "outputs": [],
   "source": [
    "data.describe()"
   ]
  },
  {
   "cell_type": "code",
   "execution_count": null,
   "id": "7a03839c-3935-46eb-8cae-71f23278a60d",
   "metadata": {},
   "outputs": [],
   "source": [
    "data.describe(include='all') #for numerical and categorical columns both"
   ]
  },
  {
   "cell_type": "markdown",
   "id": "9e77355e-9f64-4d05-a1fa-14d694d2114c",
   "metadata": {},
   "source": [
    "9. display title of the movie having runtime > 180 minutes"
   ]
  },
  {
   "cell_type": "code",
   "execution_count": null,
   "id": "54901f94-95da-4968-8d0e-8ed0f101bffc",
   "metadata": {},
   "outputs": [],
   "source": [
    "data.columns"
   ]
  },
  {
   "cell_type": "code",
   "execution_count": null,
   "id": "8b46affd-abb1-469b-866a-6d36745abc07",
   "metadata": {},
   "outputs": [],
   "source": [
    "data[data['Runtime (Minutes)']>=180]['Title']"
   ]
  },
  {
   "cell_type": "markdown",
   "id": "4a0ca44b-ed8a-440e-a373-b0554e5cf590",
   "metadata": {},
   "source": [
    "10. In which year there was highest average voting?"
   ]
  },
  {
   "cell_type": "code",
   "execution_count": null,
   "id": "bee17c70-3bf2-4cdd-b3a4-e6f4f0750be0",
   "metadata": {},
   "outputs": [],
   "source": [
    "data.columns"
   ]
  },
  {
   "cell_type": "code",
   "execution_count": null,
   "id": "25d0d5ac-9681-47da-bdc3-3f11bf0f01c1",
   "metadata": {},
   "outputs": [],
   "source": [
    "data.groupby('Year')['Votes'].mean().sort_values(ascending=False)"
   ]
  },
  {
   "cell_type": "code",
   "execution_count": null,
   "id": "6329ae09-1267-4703-b055-876fe7a07367",
   "metadata": {},
   "outputs": [],
   "source": [
    "sns.barplot(x='Year',y='Votes',data=data)\n",
    "plt.title(\"Votes by Year\")\n",
    "plt.show()"
   ]
  },
  {
   "cell_type": "markdown",
   "id": "bd75aac0-fabe-4530-a539-b2b68b613adf",
   "metadata": {},
   "source": [
    "11. Which year has the highest average revenue?"
   ]
  },
  {
   "cell_type": "code",
   "execution_count": null,
   "id": "dae0db29-4425-42de-a677-1acdba7e5d1f",
   "metadata": {},
   "outputs": [],
   "source": [
    "data.columns"
   ]
  },
  {
   "cell_type": "code",
   "execution_count": null,
   "id": "a9f30b01-868d-4ab0-9dd9-df67cd403457",
   "metadata": {},
   "outputs": [],
   "source": [
    "data.groupby('Year')['Revenue (Millions)'].mean().sort_values(ascending=False)"
   ]
  },
  {
   "cell_type": "code",
   "execution_count": null,
   "id": "ee934bd3-6289-4f2c-b1fd-08c2d41e1890",
   "metadata": {},
   "outputs": [],
   "source": [
    "sns.barplot(x='Year',y='Revenue (Millions)',data=data)"
   ]
  },
  {
   "cell_type": "markdown",
   "id": "eb8c4c3f-8567-4bac-a59e-36c0d62a817d",
   "metadata": {},
   "source": [
    "12. Find Average Rating for each director"
   ]
  },
  {
   "cell_type": "code",
   "execution_count": null,
   "id": "b794704a-524b-4a92-b38d-c5a34f004388",
   "metadata": {},
   "outputs": [],
   "source": [
    "data.columns"
   ]
  },
  {
   "cell_type": "code",
   "execution_count": null,
   "id": "067c59ce-b913-4b41-b4f5-c9fe70531b0f",
   "metadata": {},
   "outputs": [],
   "source": [
    "data.groupby('Director')['Rating'].mean().sort_values(ascending=False)"
   ]
  },
  {
   "cell_type": "markdown",
   "id": "2b12ee5b-b295-4375-964c-34ee104b02b2",
   "metadata": {},
   "source": [
    "13. Display top 10 lengthy movies title and runtime"
   ]
  },
  {
   "cell_type": "code",
   "execution_count": null,
   "id": "02631bdd-afcd-41df-9928-9a1c1886d247",
   "metadata": {},
   "outputs": [],
   "source": [
    "top10_lengthy_movies = data.nlargest(10,\"Runtime (Minutes)\")[['Title','Runtime (Minutes)']].set_index('Title')"
   ]
  },
  {
   "cell_type": "code",
   "execution_count": null,
   "id": "0693cf6a-f1db-47b4-98b9-ae850a213864",
   "metadata": {},
   "outputs": [],
   "source": [
    "sns.barplot(x='Runtime (Minutes)',y='Title',data=top10_lengthy_movies)"
   ]
  },
  {
   "cell_type": "markdown",
   "id": "1506d45e-927a-4b12-86d6-746d0cc7cd5c",
   "metadata": {},
   "source": [
    "14. Display No of movies per year"
   ]
  },
  {
   "cell_type": "code",
   "execution_count": 6,
   "id": "4671344d-9417-4aec-bc5c-a92f43f245ed",
   "metadata": {},
   "outputs": [
    {
     "data": {
      "text/plain": [
       "Index(['Rank', 'Title', 'Genre', 'Description', 'Director', 'Actors', 'Year',\n",
       "       'Runtime (Minutes)', 'Rating', 'Votes', 'Revenue (Millions)',\n",
       "       'Metascore'],\n",
       "      dtype='object')"
      ]
     },
     "execution_count": 6,
     "metadata": {},
     "output_type": "execute_result"
    }
   ],
   "source": [
    "data.columns"
   ]
  },
  {
   "cell_type": "code",
   "execution_count": 14,
   "id": "16e7cf28-d7c9-4f87-988b-46a976840bab",
   "metadata": {},
   "outputs": [
    {
     "data": {
      "text/plain": [
       "Year\n",
       "2016    297\n",
       "2015    127\n",
       "2014     98\n",
       "2013     91\n",
       "2012     64\n",
       "2011     63\n",
       "2010     60\n",
       "2007     53\n",
       "2008     52\n",
       "2009     51\n",
       "2006     44\n",
       "Name: count, dtype: int64"
      ]
     },
     "execution_count": 14,
     "metadata": {},
     "output_type": "execute_result"
    }
   ],
   "source": [
    "movies_per_year = data['Year'].value_counts()"
   ]
  },
  {
   "cell_type": "code",
   "execution_count": 17,
   "id": "d264b9d4-25b0-4726-a96d-9b4908f2fcf6",
   "metadata": {},
   "outputs": [
    {
     "data": {
      "image/png": "[encoded data removed]",
      "text/plain": [
       "<Figure size 640x480 with 1 Axes>"
      ]
     },
     "metadata": {},
     "output_type": "display_data"
    }
   ],
   "source": [
    "sns.countplot(x='Year',data=data)\n",
    "plt.title(\"Number of Movies Per Year\")\n",
    "plt.show()"
   ]
  },
  {
   "cell_type": "code",
   "execution_count": 18,
   "id": "77daf01f-97a5-4e87-b62d-49c4ca82bba5",
   "metadata": {},
   "outputs": [
    {
     "data": {
      "text/plain": [
       "Index(['Rank', 'Title', 'Genre', 'Description', 'Director', 'Actors', 'Year',\n",
       "       'Runtime (Minutes)', 'Rating', 'Votes', 'Revenue (Millions)',\n",
       "       'Metascore'],\n",
       "      dtype='object')"
      ]
     },
     "execution_count": 18,
     "metadata": {},
     "output_type": "execute_result"
    }
   ],
   "source": [
    "data.columns"
   ]
  },
  {
   "cell_type": "markdown",
   "id": "7aaf05c9-a4f3-4045-9ab3-d84a4ce8e6ff",
   "metadata": {},
   "source": [
    "15. Find most popular movie title with highest revenue"
   ]
  },
  {
   "cell_type": "code",
   "execution_count": 25,
   "id": "7c817476-7b88-43e5-a48c-b78d75567b7e",
   "metadata": {},
   "outputs": [
    {
     "data": {
      "text/plain": [
       "50    Star Wars: Episode VII - The Force Awakens\n",
       "Name: Title, dtype: object"
      ]
     },
     "execution_count": 25,
     "metadata": {},
     "output_type": "execute_result"
    }
   ],
   "source": [
    "data[data['Revenue (Millions)'].max() == data['Revenue (Millions)']]['Title']"
   ]
  },
  {
   "cell_type": "markdown",
   "id": "6889fa9f-6bb0-4ffd-9929-0631d3959cc5",
   "metadata": {},
   "source": [
    "16. Top 10 Highest Rated Movies titles and its directors"
   ]
  },
  {
   "cell_type": "code",
   "execution_count": 33,
   "id": "75d9476f-367a-4230-914b-89dbb9febb74",
   "metadata": {},
   "outputs": [
    {
     "data": {
      "text/html": [
       "<div>\n",
       "<style scoped>\n",
       "    .dataframe tbody tr th:only-of-type {\n",
       "        vertical-align: middle;\n",
       "    }\n",
       "\n",
       "    .dataframe tbody tr th {\n",
       "        vertical-align: top;\n",
       "    }\n",
       "\n",
       "    .dataframe thead th {\n",
       "        text-align: right;\n",
       "    }\n",
       "</style>\n",
       "<table border=\"1\" class=\"dataframe\">\n",
       "  <thead>\n",
       "    <tr style=\"text-align: right;\">\n",
       "      <th></th>\n",
       "      <th>Title</th>\n",
       "      <th>Rating</th>\n",
       "      <th>Director</th>\n",
       "    </tr>\n",
       "  </thead>\n",
       "  <tbody>\n",
       "    <tr>\n",
       "      <th>54</th>\n",
       "      <td>The Dark Knight</td>\n",
       "      <td>9.0</td>\n",
       "      <td>Christopher Nolan</td>\n",
       "    </tr>\n",
       "    <tr>\n",
       "      <th>80</th>\n",
       "      <td>Inception</td>\n",
       "      <td>8.8</td>\n",
       "      <td>Christopher Nolan</td>\n",
       "    </tr>\n",
       "    <tr>\n",
       "      <th>117</th>\n",
       "      <td>Dangal</td>\n",
       "      <td>8.8</td>\n",
       "      <td>Nitesh Tiwari</td>\n",
       "    </tr>\n",
       "    <tr>\n",
       "      <th>36</th>\n",
       "      <td>Interstellar</td>\n",
       "      <td>8.6</td>\n",
       "      <td>Christopher Nolan</td>\n",
       "    </tr>\n",
       "    <tr>\n",
       "      <th>96</th>\n",
       "      <td>Kimi no na wa</td>\n",
       "      <td>8.6</td>\n",
       "      <td>Makoto Shinkai</td>\n",
       "    </tr>\n",
       "    <tr>\n",
       "      <th>249</th>\n",
       "      <td>The Intouchables</td>\n",
       "      <td>8.6</td>\n",
       "      <td>Olivier Nakache</td>\n",
       "    </tr>\n",
       "    <tr>\n",
       "      <th>64</th>\n",
       "      <td>The Prestige</td>\n",
       "      <td>8.5</td>\n",
       "      <td>Christopher Nolan</td>\n",
       "    </tr>\n",
       "    <tr>\n",
       "      <th>99</th>\n",
       "      <td>The Departed</td>\n",
       "      <td>8.5</td>\n",
       "      <td>Martin Scorsese</td>\n",
       "    </tr>\n",
       "    <tr>\n",
       "      <th>124</th>\n",
       "      <td>The Dark Knight Rises</td>\n",
       "      <td>8.5</td>\n",
       "      <td>Christopher Nolan</td>\n",
       "    </tr>\n",
       "    <tr>\n",
       "      <th>133</th>\n",
       "      <td>Whiplash</td>\n",
       "      <td>8.5</td>\n",
       "      <td>Damien Chazelle</td>\n",
       "    </tr>\n",
       "  </tbody>\n",
       "</table>\n",
       "</div>"
      ],
      "text/plain": [
       "                     Title  Rating           Director\n",
       "54         The Dark Knight     9.0  Christopher Nolan\n",
       "80               Inception     8.8  Christopher Nolan\n",
       "117                 Dangal     8.8      Nitesh Tiwari\n",
       "36            Interstellar     8.6  Christopher Nolan\n",
       "96           Kimi no na wa     8.6     Makoto Shinkai\n",
       "249       The Intouchables     8.6    Olivier Nakache\n",
       "64            The Prestige     8.5  Christopher Nolan\n",
       "99            The Departed     8.5    Martin Scorsese\n",
       "124  The Dark Knight Rises     8.5  Christopher Nolan\n",
       "133               Whiplash     8.5    Damien Chazelle"
      ]
     },
     "execution_count": 33,
     "metadata": {},
     "output_type": "execute_result"
    }
   ],
   "source": [
    "top_10_rates = data.nlargest(10,'Rating')[['Title','Rating','Director']]\n",
    "top_10_rates"
   ]
  },
  {
   "cell_type": "code",
   "execution_count": 37,
   "id": "8b49a138-c38a-4f16-a74f-454e320531b0",
   "metadata": {},
   "outputs": [
    {
     "data": {
      "text/plain": [
       "<matplotlib.legend.Legend at 0x1f043fa17d0>"
      ]
     },
     "execution_count": 37,
     "metadata": {},
     "output_type": "execute_result"
    },
    {
     "data": {
      "image/png": "[encoded data removed]",
      "text/plain": [
       "<Figure size 640x480 with 1 Axes>"
      ]
     },
     "metadata": {},
     "output_type": "display_data"
    }
   ],
   "source": [
    "sns.barplot(x='Rating',y='Title',data=top_10_rates,hue='Director')\n",
    "plt.legend(bbox_to_anchor=(1.05,1),loc=2)"
   ]
  },
  {
   "cell_type": "markdown",
   "id": "e403527e-8055-460d-a68f-623957eb53cf",
   "metadata": {},
   "source": [
    "17. Average Rating of Movies Year Wise"
   ]
  },
  {
   "cell_type": "code",
   "execution_count": 42,
   "id": "1c92d068-8ca0-4e53-9de9-01c6bac71e4c",
   "metadata": {},
   "outputs": [
    {
     "data": {
      "text/plain": [
       "Year\n",
       "2007    7.133962\n",
       "2006    7.125000\n",
       "2009    6.960784\n",
       "2012    6.925000\n",
       "2011    6.838095\n",
       "2014    6.837755\n",
       "2010    6.826667\n",
       "2013    6.812088\n",
       "2008    6.784615\n",
       "2015    6.602362\n",
       "2016    6.436700\n",
       "Name: Rating, dtype: float64"
      ]
     },
     "execution_count": 42,
     "metadata": {},
     "output_type": "execute_result"
    }
   ],
   "source": [
    "avg_rating_per_year = data.groupby('Year')['Rating'].mean().sort_values(ascending=False)\n",
    "avg_rating_per_year"
   ]
  },
  {
   "cell_type": "markdown",
   "id": "cd7eefb2-579c-4d6b-8e69-9435b1a114c1",
   "metadata": {},
   "source": [
    "18. Does Rating affect the Revenue?"
   ]
  },
  {
   "cell_type": "code",
   "execution_count": 45,
   "id": "35d84ffe-33e2-4020-bf1f-d914a33f32af",
   "metadata": {},
   "outputs": [
    {
     "data": {
      "text/plain": [
       "Index(['Rank', 'Title', 'Genre', 'Description', 'Director', 'Actors', 'Year',\n",
       "       'Runtime (Minutes)', 'Rating', 'Votes', 'Revenue (Millions)',\n",
       "       'Metascore'],\n",
       "      dtype='object')"
      ]
     },
     "execution_count": 45,
     "metadata": {},
     "output_type": "execute_result"
    }
   ],
   "source": [
    "data.columns"
   ]
  },
  {
   "cell_type": "code",
   "execution_count": 46,
   "id": "6b19fbfe-741e-466f-866a-418073f047f0",
   "metadata": {},
   "outputs": [
    {
     "data": {
      "text/plain": [
       "<Axes: xlabel='Rating', ylabel='Revenue (Millions)'>"
      ]
     },
     "execution_count": 46,
     "metadata": {},
     "output_type": "execute_result"
    },
    {
     "data": {
      "image/png": "[encoded data removed]",
      "text/plain": [
       "<Figure size 640x480 with 1 Axes>"
      ]
     },
     "metadata": {},
     "output_type": "display_data"
    }
   ],
   "source": [
    "sns.scatterplot(x=\"Rating\",y=\"Revenue (Millions)\",data=data)"
   ]
  },
  {
   "cell_type": "markdown",
   "id": "930a3b4c-2d21-47e8-9717-4e0ca10c7bc8",
   "metadata": {},
   "source": [
    "19. Classify movies based on Ratings [Excellent,Good and Average]"
   ]
  },
  {
   "cell_type": "code",
   "execution_count": 47,
   "id": "4c6fc737-1295-484f-ba46-7c86cb301ca4",
   "metadata": {},
   "outputs": [],
   "source": [
    "def rating(rating):\n",
    "    if rating>=7.0:\n",
    "        return \"Excellent\"\n",
    "    elif rating>=6.0:\n",
    "        return \"Good\"\n",
    "    else:\n",
    "        return \"Average\""
   ]
  },
  {
   "cell_type": "code",
   "execution_count": 48,
   "id": "45f9c270-aaf6-4ca6-892b-e587e4a2d329",
   "metadata": {},
   "outputs": [],
   "source": [
    "data['rating_cat'] = data['Rating'].apply(rating)"
   ]
  },
  {
   "cell_type": "code",
   "execution_count": 49,
   "id": "8d96b35c-cd67-4ca1-b1a0-776b0a02df1f",
   "metadata": {},
   "outputs": [
    {
     "data": {
      "text/html": [
       "<div>\n",
       "<style scoped>\n",
       "    .dataframe tbody tr th:only-of-type {\n",
       "        vertical-align: middle;\n",
       "    }\n",
       "\n",
       "    .dataframe tbody tr th {\n",
       "        vertical-align: top;\n",
       "    }\n",
       "\n",
       "    .dataframe thead th {\n",
       "        text-align: right;\n",
       "    }\n",
       "</style>\n",
       "<table border=\"1\" class=\"dataframe\">\n",
       "  <thead>\n",
       "    <tr style=\"text-align: right;\">\n",
       "      <th></th>\n",
       "      <th>Rank</th>\n",
       "      <th>Title</th>\n",
       "      <th>Genre</th>\n",
       "      <th>Description</th>\n",
       "      <th>Director</th>\n",
       "      <th>Actors</th>\n",
       "      <th>Year</th>\n",
       "      <th>Runtime (Minutes)</th>\n",
       "      <th>Rating</th>\n",
       "      <th>Votes</th>\n",
       "      <th>Revenue (Millions)</th>\n",
       "      <th>Metascore</th>\n",
       "      <th>rating_cat</th>\n",
       "    </tr>\n",
       "  </thead>\n",
       "  <tbody>\n",
       "    <tr>\n",
       "      <th>0</th>\n",
       "      <td>1</td>\n",
       "      <td>Guardians of the Galaxy</td>\n",
       "      <td>Action,Adventure,Sci-Fi</td>\n",
       "      <td>A group of intergalactic criminals are forced ...</td>\n",
       "      <td>James Gunn</td>\n",
       "      <td>Chris Pratt, Vin Diesel, Bradley Cooper, Zoe S...</td>\n",
       "      <td>2014</td>\n",
       "      <td>121</td>\n",
       "      <td>8.1</td>\n",
       "      <td>757074</td>\n",
       "      <td>333.13</td>\n",
       "      <td>76.0</td>\n",
       "      <td>Excellent</td>\n",
       "    </tr>\n",
       "    <tr>\n",
       "      <th>1</th>\n",
       "      <td>2</td>\n",
       "      <td>Prometheus</td>\n",
       "      <td>Adventure,Mystery,Sci-Fi</td>\n",
       "      <td>Following clues to the origin of mankind, a te...</td>\n",
       "      <td>Ridley Scott</td>\n",
       "      <td>Noomi Rapace, Logan Marshall-Green, Michael Fa...</td>\n",
       "      <td>2012</td>\n",
       "      <td>124</td>\n",
       "      <td>7.0</td>\n",
       "      <td>485820</td>\n",
       "      <td>126.46</td>\n",
       "      <td>65.0</td>\n",
       "      <td>Excellent</td>\n",
       "    </tr>\n",
       "    <tr>\n",
       "      <th>2</th>\n",
       "      <td>3</td>\n",
       "      <td>Split</td>\n",
       "      <td>Horror,Thriller</td>\n",
       "      <td>Three girls are kidnapped by a man with a diag...</td>\n",
       "      <td>M. Night Shyamalan</td>\n",
       "      <td>James McAvoy, Anya Taylor-Joy, Haley Lu Richar...</td>\n",
       "      <td>2016</td>\n",
       "      <td>117</td>\n",
       "      <td>7.3</td>\n",
       "      <td>157606</td>\n",
       "      <td>138.12</td>\n",
       "      <td>62.0</td>\n",
       "      <td>Excellent</td>\n",
       "    </tr>\n",
       "    <tr>\n",
       "      <th>3</th>\n",
       "      <td>4</td>\n",
       "      <td>Sing</td>\n",
       "      <td>Animation,Comedy,Family</td>\n",
       "      <td>In a city of humanoid animals, a hustling thea...</td>\n",
       "      <td>Christophe Lourdelet</td>\n",
       "      <td>Matthew McConaughey,Reese Witherspoon, Seth Ma...</td>\n",
       "      <td>2016</td>\n",
       "      <td>108</td>\n",
       "      <td>7.2</td>\n",
       "      <td>60545</td>\n",
       "      <td>270.32</td>\n",
       "      <td>59.0</td>\n",
       "      <td>Excellent</td>\n",
       "    </tr>\n",
       "    <tr>\n",
       "      <th>4</th>\n",
       "      <td>5</td>\n",
       "      <td>Suicide Squad</td>\n",
       "      <td>Action,Adventure,Fantasy</td>\n",
       "      <td>A secret government agency recruits some of th...</td>\n",
       "      <td>David Ayer</td>\n",
       "      <td>Will Smith, Jared Leto, Margot Robbie, Viola D...</td>\n",
       "      <td>2016</td>\n",
       "      <td>123</td>\n",
       "      <td>6.2</td>\n",
       "      <td>393727</td>\n",
       "      <td>325.02</td>\n",
       "      <td>40.0</td>\n",
       "      <td>Good</td>\n",
       "    </tr>\n",
       "  </tbody>\n",
       "</table>\n",
       "</div>"
      ],
      "text/plain": [
       "   Rank                    Title                     Genre  \\\n",
       "0     1  Guardians of the Galaxy   Action,Adventure,Sci-Fi   \n",
       "1     2               Prometheus  Adventure,Mystery,Sci-Fi   \n",
       "2     3                    Split           Horror,Thriller   \n",
       "3     4                     Sing   Animation,Comedy,Family   \n",
       "4     5            Suicide Squad  Action,Adventure,Fantasy   \n",
       "\n",
       "                                         Description              Director  \\\n",
       "0  A group of intergalactic criminals are forced ...            James Gunn   \n",
       "1  Following clues to the origin of mankind, a te...          Ridley Scott   \n",
       "2  Three girls are kidnapped by a man with a diag...    M. Night Shyamalan   \n",
       "3  In a city of humanoid animals, a hustling thea...  Christophe Lourdelet   \n",
       "4  A secret government agency recruits some of th...            David Ayer   \n",
       "\n",
       "                                              Actors  Year  Runtime (Minutes)  \\\n",
       "0  Chris Pratt, Vin Diesel, Bradley Cooper, Zoe S...  2014                121   \n",
       "1  Noomi Rapace, Logan Marshall-Green, Michael Fa...  2012                124   \n",
       "2  James McAvoy, Anya Taylor-Joy, Haley Lu Richar...  2016                117   \n",
       "3  Matthew McConaughey,Reese Witherspoon, Seth Ma...  2016                108   \n",
       "4  Will Smith, Jared Leto, Margot Robbie, Viola D...  2016                123   \n",
       "\n",
       "   Rating   Votes  Revenue (Millions)  Metascore rating_cat  \n",
       "0     8.1  757074              333.13       76.0  Excellent  \n",
       "1     7.0  485820              126.46       65.0  Excellent  \n",
       "2     7.3  157606              138.12       62.0  Excellent  \n",
       "3     7.2   60545              270.32       59.0  Excellent  \n",
       "4     6.2  393727              325.02       40.0       Good  "
      ]
     },
     "execution_count": 49,
     "metadata": {},
     "output_type": "execute_result"
    }
   ],
   "source": [
    "data.head()"
   ]
  },
  {
   "cell_type": "markdown",
   "id": "9c1f7add-8974-473b-805a-ae09ecfc654c",
   "metadata": {},
   "source": [
    "20. Count no of Action movies"
   ]
  },
  {
   "cell_type": "code",
   "execution_count": 53,
   "id": "4de11607-aa19-4f3e-9be1-8cf9bf2f96bf",
   "metadata": {},
   "outputs": [
    {
     "data": {
      "text/plain": [
       "dtype('O')"
      ]
     },
     "execution_count": 53,
     "metadata": {},
     "output_type": "execute_result"
    }
   ],
   "source": [
    "data['Genre'].dtype"
   ]
  },
  {
   "cell_type": "code",
   "execution_count": 54,
   "id": "0410bf24-de25-4f88-8a44-022c8dec6d29",
   "metadata": {},
   "outputs": [
    {
     "data": {
      "text/plain": [
       "0       True\n",
       "1      False\n",
       "2      False\n",
       "3      False\n",
       "4       True\n",
       "       ...  \n",
       "995    False\n",
       "996    False\n",
       "997    False\n",
       "998    False\n",
       "999    False\n",
       "Name: Genre, Length: 1000, dtype: bool"
      ]
     },
     "execution_count": 54,
     "metadata": {},
     "output_type": "execute_result"
    }
   ],
   "source": [
    "data['Genre'].str.contains('Action',case=False)"
   ]
  },
  {
   "cell_type": "code",
   "execution_count": 56,
   "id": "f251cc82-2f4d-4859-b9c6-0dcac9fddf42",
   "metadata": {},
   "outputs": [
    {
     "data": {
      "text/plain": [
       "303"
      ]
     },
     "execution_count": 56,
     "metadata": {},
     "output_type": "execute_result"
    }
   ],
   "source": [
    "len(data[data['Genre'].str.contains('Action',case=False)])"
   ]
  },
  {
   "cell_type": "markdown",
   "id": "35e13613-21b8-471a-8c24-8c9ec11b8eca",
   "metadata": {},
   "source": [
    "21. Unique values from Genre columns"
   ]
  },
  {
   "cell_type": "code",
   "execution_count": 57,
   "id": "96ec9d9f-b5be-44ce-9e58-a2866f88c282",
   "metadata": {},
   "outputs": [
    {
     "data": {
      "text/plain": [
       "array(['Action,Adventure,Sci-Fi', 'Adventure,Mystery,Sci-Fi',\n",
       "       'Horror,Thriller', 'Animation,Comedy,Family',\n",
       "       'Action,Adventure,Fantasy', 'Comedy,Drama,Music', 'Comedy',\n",
       "       'Action,Adventure,Biography', 'Adventure,Drama,Romance',\n",
       "       'Adventure,Family,Fantasy', 'Biography,Drama,History',\n",
       "       'Animation,Adventure,Comedy', 'Action,Comedy,Drama',\n",
       "       'Action,Thriller', 'Biography,Drama', 'Drama,Mystery,Sci-Fi',\n",
       "       'Adventure,Drama,Thriller', 'Drama', 'Crime,Drama,Horror',\n",
       "       'Action,Adventure,Drama', 'Drama,Thriller',\n",
       "       'Action,Adventure,Comedy', 'Action,Horror,Sci-Fi',\n",
       "       'Adventure,Drama,Sci-Fi', 'Action,Adventure,Western',\n",
       "       'Comedy,Drama', 'Horror', 'Adventure,Drama,Fantasy',\n",
       "       'Action,Crime,Thriller', 'Action,Crime,Drama',\n",
       "       'Adventure,Drama,History', 'Crime,Horror,Thriller',\n",
       "       'Drama,Romance', 'Comedy,Drama,Romance', 'Horror,Mystery,Thriller',\n",
       "       'Crime,Drama,Mystery', 'Drama,Romance,Thriller',\n",
       "       'Drama,History,Thriller', 'Action,Drama,Thriller', 'Drama,History',\n",
       "       'Action,Drama,Romance', 'Drama,Fantasy', 'Action,Sci-Fi',\n",
       "       'Adventure,Drama,War', 'Action,Comedy,Fantasy',\n",
       "       'Biography,Comedy,Crime', 'Crime,Drama', 'Comedy,Crime,Drama',\n",
       "       'Action,Comedy,Crime', 'Animation,Drama,Fantasy',\n",
       "       'Horror,Mystery,Sci-Fi', 'Drama,Mystery,Thriller',\n",
       "       'Crime,Drama,Thriller', 'Biography,Crime,Drama',\n",
       "       'Crime,Mystery,Thriller', 'Action,Horror,Thriller',\n",
       "       'Romance,Sci-Fi', 'Action,Fantasy,War', 'Action,Biography,Drama',\n",
       "       'Drama,Horror,Mystery', 'Adventure,Drama,Family',\n",
       "       'Adventure,Comedy,Romance', 'Action', 'Adventure,Crime,Mystery',\n",
       "       'Comedy,Family,Musical', 'Adventure,Comedy,Drama',\n",
       "       'Drama,Horror,Thriller', 'Drama,Music', 'Mystery,Thriller',\n",
       "       'Mystery,Thriller,Western', 'Comedy,Family',\n",
       "       'Biography,Comedy,Drama', 'Drama,Western', 'Drama,Mystery,Romance',\n",
       "       'Action,Drama,Mystery', 'Action,Adventure,Crime',\n",
       "       'Adventure,Sci-Fi,Thriller', 'Action,Comedy,Mystery',\n",
       "       'Thriller,War', 'Action,Adventure,Thriller',\n",
       "       'Drama,Fantasy,Romance', 'Action,Drama,History',\n",
       "       'Animation,Adventure,Family', 'Adventure,Horror',\n",
       "       'Drama,Romance,Sci-Fi', 'Action,Adventure,Family', 'Action,Comedy',\n",
       "       'Comedy,Romance', 'Horror,Mystery', 'Drama,Family,Fantasy',\n",
       "       'Sci-Fi', 'Drama,War', 'Drama,Fantasy,Horror',\n",
       "       'Crime,Drama,History', 'Horror,Sci-Fi,Thriller',\n",
       "       'Action,Drama,Sport', 'Adventure,Biography,Drama',\n",
       "       'Biography,Drama,Thriller', 'Action,Adventure,Mystery',\n",
       "       'Drama,Horror', 'Comedy,Crime', 'Drama,Fantasy,War',\n",
       "       'Action,Adventure,Romance', 'Action,Drama,War',\n",
       "       'Drama,Musical,Romance', 'Drama,Sci-Fi,Thriller',\n",
       "       'Action,Drama,Sci-Fi', 'Drama,Sci-Fi', 'Adventure,Fantasy',\n",
       "       'Thriller', 'Biography,Drama,Romance', 'Action,Adventure',\n",
       "       'Action,Fantasy', 'Action,Drama,Horror', 'Comedy,Music,Romance',\n",
       "       'Biography,Drama,Sport', 'Action,Horror', 'Comedy,Horror,Thriller',\n",
       "       'Crime,Drama,Music', 'Action,Sci-Fi,Thriller',\n",
       "       'Drama,Horror,Sci-Fi', 'Drama,Sport', 'Comedy,Horror',\n",
       "       'Comedy,Fantasy,Romance', 'Comedy,Fantasy', 'Comedy,Drama,Fantasy',\n",
       "       'Adventure,Comedy,Horror', 'Comedy,Mystery',\n",
       "       'Action,Mystery,Sci-Fi', 'Action,Crime,Fantasy',\n",
       "       'Comedy,Fantasy,Horror', 'Animation,Action,Adventure',\n",
       "       'Action,Comedy,Family', 'Comedy,Sci-Fi', 'Action,Biography,Crime',\n",
       "       'Adventure,Comedy', 'Comedy,Music', 'Comedy,Drama,Horror',\n",
       "       'Action,Horror,Romance', 'Action,Drama,Fantasy',\n",
       "       'Action,Mystery,Thriller', 'Action,Adventure,Horror',\n",
       "       'Animation,Family,Fantasy', 'Adventure,Horror,Mystery',\n",
       "       'Action,Horror,Mystery', 'Adventure,Comedy,Family',\n",
       "       'Action,Crime,Mystery', 'Comedy,Drama,Family',\n",
       "       'Action,Crime,Sport', 'Mystery,Sci-Fi,Thriller', 'Sci-Fi,Thriller',\n",
       "       'Adventure,Drama,Horror', 'Biography,History,Thriller',\n",
       "       'Adventure,Comedy,Sci-Fi', 'Fantasy,Horror',\n",
       "       'Action,Fantasy,Thriller', 'Comedy,Romance,Sport',\n",
       "       'Animation,Action,Comedy', 'Drama,Fantasy,Thriller',\n",
       "       'Action,Comedy,Romance', 'Action,Fantasy,Horror',\n",
       "       'Mystery,Romance,Sci-Fi', 'Comedy,Drama,Thriller',\n",
       "       'Comedy,Western', 'Drama,History,War', 'Fantasy,Horror,Thriller',\n",
       "       'Drama,Horror,Musical', 'Drama,Family', 'Romance,Sci-Fi,Thriller',\n",
       "       'Animation,Fantasy', 'Drama,Mystery,War', 'Action,Drama,Family',\n",
       "       'Adventure,Drama,Western', 'Drama,Music,Romance',\n",
       "       'Comedy,Romance,Western', 'Adventure,Drama', 'Drama,Thriller,War',\n",
       "       'Drama,Fantasy,Mystery', 'Comedy,Crime,Thriller',\n",
       "       'Animation,Comedy,Drama', 'Action,Comedy,Sci-Fi',\n",
       "       'Drama,Romance,War', 'Adventure,Fantasy,Mystery',\n",
       "       'Mystery,Romance,Thriller', 'Biography,Drama,Mystery',\n",
       "       'Animation,Drama,Romance', 'Comedy,Horror,Romance',\n",
       "       'Action,Thriller,War', 'Action,Comedy,Horror',\n",
       "       'Action,Crime,Sci-Fi', 'Crime,Thriller', 'Comedy,Horror,Sci-Fi',\n",
       "       'Crime,Drama,Fantasy', 'Drama,Fantasy,Music',\n",
       "       'Action,Comedy,Sport', 'Fantasy,Mystery,Thriller', 'Adventure',\n",
       "       'Adventure,Biography', 'Adventure,Biography,Crime',\n",
       "       'Comedy,Drama,Musical', 'Comedy,Family,Romance',\n",
       "       'Biography,Drama,Family', 'Drama,Fantasy,Musical',\n",
       "       'Adventure,Family', 'Adventure,Comedy,Fantasy',\n",
       "       'Drama,Family,Music', 'Comedy,Family,Fantasy'], dtype=object)"
      ]
     },
     "execution_count": 57,
     "metadata": {},
     "output_type": "execute_result"
    }
   ],
   "source": [
    "data['Genre'].unique()"
   ]
  },
  {
   "cell_type": "code",
   "execution_count": 63,
   "id": "99f99cd8-fdb2-4aa7-9b20-593f430cd45b",
   "metadata": {},
   "outputs": [],
   "source": [
    "one_d = []\n",
    "for x in data['Genre'].unique():\n",
    "    one_d = one_d + x.split(',')"
   ]
  },
  {
   "cell_type": "code",
   "execution_count": 66,
   "id": "f84e79ea-2385-43c6-9cd8-ad4af952ef09",
   "metadata": {},
   "outputs": [
    {
     "data": {
      "text/plain": [
       "['Action',\n",
       " 'Adventure',\n",
       " 'Sci-Fi',\n",
       " 'Mystery',\n",
       " 'Horror',\n",
       " 'Thriller',\n",
       " 'Animation',\n",
       " 'Comedy',\n",
       " 'Family',\n",
       " 'Fantasy',\n",
       " 'Drama',\n",
       " 'Music',\n",
       " 'Biography',\n",
       " 'Romance',\n",
       " 'History',\n",
       " 'Crime',\n",
       " 'Western',\n",
       " 'War',\n",
       " 'Musical',\n",
       " 'Sport']"
      ]
     },
     "execution_count": 66,
     "metadata": {},
     "output_type": "execute_result"
    }
   ],
   "source": [
    "unique_genres = []\n",
    "for value in one_d:\n",
    "    if value not in unique_genres:\n",
    "        unique_genres.append(value)\n",
    "unique_genres"
   ]
  },
  {
   "cell_type": "markdown",
   "id": "d38539f4-c098-4329-ab00-806ecbe549ba",
   "metadata": {},
   "source": [
    "22. How many films of each genres were made?"
   ]
  },
  {
   "cell_type": "code",
   "execution_count": 69,
   "id": "afda9886-b148-41a4-86e5-56872fa40404",
   "metadata": {},
   "outputs": [],
   "source": [
    "one_d = []\n",
    "for x in data['Genre']:\n",
    "    one_d = one_d + x.split(',')"
   ]
  },
  {
   "cell_type": "code",
   "execution_count": 70,
   "id": "16773cd4-ccd0-48f8-9854-049c2ee40eed",
   "metadata": {},
   "outputs": [
    {
     "data": {
      "text/plain": [
       "Counter({'Drama': 513,\n",
       "         'Action': 303,\n",
       "         'Comedy': 279,\n",
       "         'Adventure': 259,\n",
       "         'Thriller': 195,\n",
       "         'Crime': 150,\n",
       "         'Romance': 141,\n",
       "         'Sci-Fi': 120,\n",
       "         'Horror': 119,\n",
       "         'Mystery': 106,\n",
       "         'Fantasy': 101,\n",
       "         'Biography': 81,\n",
       "         'Family': 51,\n",
       "         'Animation': 49,\n",
       "         'History': 29,\n",
       "         'Sport': 18,\n",
       "         'Music': 16,\n",
       "         'War': 13,\n",
       "         'Western': 7,\n",
       "         'Musical': 5})"
      ]
     },
     "execution_count": 70,
     "metadata": {},
     "output_type": "execute_result"
    }
   ],
   "source": [
    "from collections import Counter\n",
    "Counter(one_d)"
   ]
  },
  {
   "cell_type": "code",
   "execution_count": null,
   "id": "febbce18-8351-4826-a6eb-60d4d158c6a4",
   "metadata": {},
   "outputs": [],
   "source": []
  }
 ],
 "metadata": {
  "kernelspec": {
   "display_name": "Python 3 (ipykernel)",
   "language": "python",
   "name": "python3"
  },
  "language_info": {
   "codemirror_mode": {
    "name": "ipython",
    "version": 3
   },
   "file_extension": ".py",
   "mimetype": "text/x-python",
   "name": "python",
   "nbconvert_exporter": "python",
   "pygments_lexer": "ipython3",
   "version": "3.11.7"
  }
 },
 "nbformat": 4,
 "nbformat_minor": 5
}
